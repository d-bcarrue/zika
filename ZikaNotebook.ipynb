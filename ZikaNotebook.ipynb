{
 "cells": [
  {
   "cell_type": "markdown",
   "metadata": {},
   "source": [
    "Código, modelos y este notebook disponibles en el repositorio: [https://github.com/d-bcarrue/zika](https://github.com/d-bcarrue/zika)."
   ]
  },
  {
   "cell_type": "markdown",
   "metadata": {},
   "source": [
    "## Descripción del proyecto\n",
    "Predicción de síntomas en un paciente con una cepa específica del virus Zika usando datos clínicos específicos y métodos de Machine Learning.  \n",
    "\n",
    "- **Preprocesado de datos**\n",
    "  - Buscar errores o missing values y eliminar estas filas.\n",
    "  - Buscar columnas repetidas y eliminar las duplicadas.\n",
    "  - Balanceo de clases.  \n",
    "\n",
    "\n",
    "- **Entrenamiento de modelos**\n",
    "  - Selección del tipo de modelo.\n",
    "  - Búsqueda de los hiperparámetros óptimos.  \n",
    "\n",
    "\n",
    "- **Resultados**\n",
    "  - Curvas de aprendizaje.\n",
    "  - Precisión final del modelo.\n",
    "  - Guardado de modelos."
   ]
  },
  {
   "cell_type": "code",
   "execution_count": 1,
   "metadata": {},
   "outputs": [],
   "source": [
    "%matplotlib inline\n",
    "import os\n",
    "import numpy as np\n",
    "import pandas as pd\n",
    "import matplotlib.pyplot as plt\n",
    "from sklearn.preprocessing import StandardScaler\n",
    "from sklearn.utils import shuffle\n",
    "from sklearn.neighbors import KNeighborsClassifier\n",
    "from sklearn.ensemble import RandomForestClassifier\n",
    "from sklearn.discriminant_analysis import LinearDiscriminantAnalysis\n",
    "from sklearn.naive_bayes import GaussianNB\n",
    "from sklearn.neural_network import MLPClassifier\n",
    "from sklearn.svm import SVC\n",
    "from sklearn.model_selection import (train_test_split, GridSearchCV,\n",
    "                                     ParameterGrid, cross_val_score,\n",
    "                                    learning_curve, ShuffleSplit)\n",
    "from imblearn.over_sampling import SMOTE\n",
    "import warnings\n",
    "import itertools as it\n",
    "import pickle\n",
    "import seaborn as sns\n",
    "from sklearn.metrics import confusion_matrix"
   ]
  },
  {
   "cell_type": "code",
   "execution_count": 2,
   "metadata": {},
   "outputs": [],
   "source": [
    "# Cargamos dataset\n",
    "df = pd.read_csv(os.path.join('ds_Zika.csv'))"
   ]
  },
  {
   "cell_type": "markdown",
   "metadata": {},
   "source": [
    "## Preprocesado de datos"
   ]
  },
  {
   "cell_type": "markdown",
   "metadata": {},
   "source": [
    "**Comprobamos que no haya \"missing values\"**  \n",
    "Dado que no los hay, seguimos adelante."
   ]
  },
  {
   "cell_type": "code",
   "execution_count": 3,
   "metadata": {},
   "outputs": [
    {
     "data": {
      "text/plain": [
       "True"
      ]
     },
     "execution_count": 3,
     "metadata": {},
     "output_type": "execute_result"
    }
   ],
   "source": [
    "attr = []\n",
    "# Iteramos los atributos del dataset\n",
    "for i in df.columns:\n",
    "    # Comprobamos los valores de cada atributo\n",
    "    attr.append(np.all(df[i].notna()))\n",
    "# Ningún atributo tiene missing values:\n",
    "np.all(np.array(attr))"
   ]
  },
  {
   "cell_type": "markdown",
   "metadata": {},
   "source": [
    "**Cálculo de matriz de similitudes**  \n",
    "Dado el origen medico de las caracteristicas se emplea para medir la similitud un indice muy restrictivo, se realiza la proporcion de casos que son iguales en la misma fila. Con la intencion de buscar columnas exactamente iguales."
   ]
  },
  {
   "cell_type": "code",
   "execution_count": 4,
   "metadata": {},
   "outputs": [],
   "source": [
    "resultados = np.zeros((len(df.columns), len(df.columns)))\n",
    "\n",
    "for i in range(len(df.columns)):\n",
    "    for j in range(len(df.columns)):\n",
    "            resultados[i, j] = np.mean(df.iloc[:, i] == df.iloc[:, j])"
   ]
  },
  {
   "cell_type": "markdown",
   "metadata": {},
   "source": [
    "**HeatMap de similitudes**"
   ]
  },
  {
   "cell_type": "code",
   "execution_count": 5,
   "metadata": {},
   "outputs": [
    {
     "data": {
      "image/png": "[encoded data removed]",
      "text/plain": [
       "<Figure size 432x288 with 2 Axes>"
      ]
     },
     "metadata": {
      "needs_background": "light"
     },
     "output_type": "display_data"
    }
   ],
   "source": [
    "plt.figure()\n",
    "x = sns.heatmap(resultados)\n",
    "plt.show()\n",
    "plt.close()"
   ]
  },
  {
   "cell_type": "markdown",
   "metadata": {},
   "source": [
    "**Comprobamos que no haya variables con \"near-zero variance\"**"
   ]
  },
  {
   "cell_type": "code",
   "execution_count": 6,
   "metadata": {},
   "outputs": [
    {
     "name": "stdout",
     "output_type": "stream",
     "text": [
      "Index(['DSh(I)005_qr', 'DSh(I)009_qr'], dtype='object')\n"
     ]
    }
   ],
   "source": [
    "print(df.columns[df.std(axis=0) <= 0.001])"
   ]
  },
  {
   "cell_type": "code",
   "execution_count": 7,
   "metadata": {},
   "outputs": [],
   "source": [
    "# Eliminamos esas columnas\n",
    "df = df.drop(columns=[df.columns[5],df.columns[9]])\n",
    "resultados = np.delete(resultados, [5,9], axis=0)\n",
    "resultados = np.delete(resultados, [5,9], axis=1)"
   ]
  },
  {
   "cell_type": "markdown",
   "metadata": {},
   "source": [
    "**Comprobamos que no haya variables iguales**  \n",
    "Las columnas 32 y la 40 son exactamente iguales. Se quita la primera de ellas."
   ]
  },
  {
   "cell_type": "code",
   "execution_count": 8,
   "metadata": {},
   "outputs": [
    {
     "name": "stdout",
     "output_type": "stream",
     "text": [
      "DSh(I)032_qr DSh(I)040_qr\n"
     ]
    }
   ],
   "source": [
    "iguales = []\n",
    "for i, j in it.combinations(range(len(df.columns)), 2):\n",
    "    if round(resultados[i, j], 4) == 1:\n",
    "        iguales.append(df.columns[i])\n",
    "        print(df.columns[i], df.columns[j])"
   ]
  },
  {
   "cell_type": "code",
   "execution_count": 9,
   "metadata": {},
   "outputs": [],
   "source": [
    "# Eliminamos esas columnas\n",
    "df = df.drop(columns=list(set(iguales)))"
   ]
  },
  {
   "cell_type": "markdown",
   "metadata": {},
   "source": [
    "**Comprobamos que las clases no estén desbalanceadas**  \n",
    "Lo están. Procedemos a balancearlas."
   ]
  },
  {
   "cell_type": "code",
   "execution_count": 10,
   "metadata": {},
   "outputs": [
    {
     "data": {
      "text/plain": [
       "0.18557084417999256"
      ]
     },
     "execution_count": 10,
     "metadata": {},
     "output_type": "execute_result"
    }
   ],
   "source": [
    "# Balanceo de clases\n",
    "# Comprobamos la proporción\n",
    "np.mean(df[\"Output\"])"
   ]
  },
  {
   "cell_type": "markdown",
   "metadata": {},
   "source": [
    "**Undersampling**  \n",
    "Reducimos el número de muestras negativas al número de muestras positivas, seleccionandolas de forma aleatoria."
   ]
  },
  {
   "cell_type": "code",
   "execution_count": 11,
   "metadata": {},
   "outputs": [],
   "source": [
    "df_u = df.copy()\n",
    "# Número de casos positivos\n",
    "nposit = len(df_u[df_u['Output'] == 1])\n",
    "# Índices de casos negativos\n",
    "inegat = df_u[df_u.Output == 0].index\n",
    "# Cogemos aleatoriamente un número de índices negativos igual al número de casos positivos\n",
    "random_indices = np.random.choice(inegat, nposit, replace=False)\n",
    "# Obtenemos todos los índices positivos\n",
    "iposit = df_u[df_u.Output == 1].index\n",
    "# Unimos las dos listas de índices\n",
    "new_indices = np.concatenate([iposit, random_indices])\n",
    "df_u = df_u.loc[new_indices]\n",
    "# y las desordenamos\n",
    "df_u = shuffle(df_u).reset_index(drop=True)\n",
    "\n",
    "X_u = df_u.drop('Output', axis=1)\n",
    "y_u = df_u['Output']\n",
    "\n",
    "Xdata_u = X_u.values\n",
    "ydata_u = y_u.values"
   ]
  },
  {
   "cell_type": "markdown",
   "metadata": {},
   "source": [
    "**Oversampling**  \n",
    "Se generan muestras sinteticas positivas que siguen la misma distribución que las originales."
   ]
  },
  {
   "cell_type": "code",
   "execution_count": 12,
   "metadata": {},
   "outputs": [],
   "source": [
    "df_o = df.copy()\n",
    "X_o = df_o.drop('Output', axis=1)\n",
    "y_o = df_o['Output']\n",
    "Xdata_o = X_o.values\n",
    "ydata_o = y_o.values\n",
    "Xdata_o, ydata_o = SMOTE().fit_resample(Xdata_o, ydata_o)"
   ]
  },
  {
   "cell_type": "markdown",
   "metadata": {},
   "source": [
    "## Entrenamiento de Modelos - Undersampled"
   ]
  },
  {
   "cell_type": "code",
   "execution_count": 13,
   "metadata": {},
   "outputs": [],
   "source": [
    "# Suprimimos warnings para legibilidad (nota: no recomendamos hacer esto)\n",
    "warnings.filterwarnings(\"ignore\")"
   ]
  },
  {
   "cell_type": "code",
   "execution_count": 14,
   "metadata": {},
   "outputs": [],
   "source": [
    "# Probamos con undersampling\n",
    "Xdata = Xdata_u\n",
    "ydata = ydata_u"
   ]
  },
  {
   "cell_type": "markdown",
   "metadata": {},
   "source": [
    "### Selección del modelo  \n",
    "Se prueba con una batería de diferentes modelos de clasificación, con los parámetros por defecto."
   ]
  },
  {
   "cell_type": "code",
   "execution_count": 15,
   "metadata": {},
   "outputs": [
    {
     "data": {
      "text/html": [
       "<div>\n",
       "<style scoped>\n",
       "    .dataframe tbody tr th:only-of-type {\n",
       "        vertical-align: middle;\n",
       "    }\n",
       "\n",
       "    .dataframe tbody tr th {\n",
       "        vertical-align: top;\n",
       "    }\n",
       "\n",
       "    .dataframe thead th {\n",
       "        text-align: right;\n",
       "    }\n",
       "</style>\n",
       "<table border=\"1\" class=\"dataframe\">\n",
       "  <thead>\n",
       "    <tr style=\"text-align: right;\">\n",
       "      <th></th>\n",
       "      <th>Mean</th>\n",
       "      <th>Standard Deviation</th>\n",
       "    </tr>\n",
       "  </thead>\n",
       "  <tbody>\n",
       "    <tr>\n",
       "      <th>KNeighborsClassifier</th>\n",
       "      <td>0.893758</td>\n",
       "      <td>0.019712</td>\n",
       "    </tr>\n",
       "    <tr>\n",
       "      <th>LinearDiscriminantAnalysis</th>\n",
       "      <td>0.867177</td>\n",
       "      <td>0.019101</td>\n",
       "    </tr>\n",
       "    <tr>\n",
       "      <th>GaussianNB</th>\n",
       "      <td>0.794571</td>\n",
       "      <td>0.016499</td>\n",
       "    </tr>\n",
       "    <tr>\n",
       "      <th>MLPClassifier</th>\n",
       "      <td>0.909788</td>\n",
       "      <td>0.012327</td>\n",
       "    </tr>\n",
       "    <tr>\n",
       "      <th>SVC</th>\n",
       "      <td>0.794571</td>\n",
       "      <td>0.016499</td>\n",
       "    </tr>\n",
       "    <tr>\n",
       "      <th>RandomForestClassifier</th>\n",
       "      <td>0.930343</td>\n",
       "      <td>0.012469</td>\n",
       "    </tr>\n",
       "  </tbody>\n",
       "</table>\n",
       "</div>"
      ],
      "text/plain": [
       "                                Mean  Standard Deviation\n",
       "KNeighborsClassifier        0.893758            0.019712\n",
       "LinearDiscriminantAnalysis  0.867177            0.019101\n",
       "GaussianNB                  0.794571            0.016499\n",
       "MLPClassifier               0.909788            0.012327\n",
       "SVC                         0.794571            0.016499\n",
       "RandomForestClassifier      0.930343            0.012469"
      ]
     },
     "execution_count": 15,
     "metadata": {},
     "output_type": "execute_result"
    }
   ],
   "source": [
    "# K Neighbors\n",
    "knb = KNeighborsClassifier()\n",
    "\n",
    "# LDC:\n",
    "ldc = LinearDiscriminantAnalysis()\n",
    "\n",
    "# Bayesian:\n",
    "gnb = GaussianNB()\n",
    "\n",
    "# Multilayer Perceptron\n",
    "mlp = MLPClassifier()\n",
    "\n",
    "# SVM:\n",
    "svm = SVC()\n",
    "\n",
    "# Random Forest\n",
    "rndf = RandomForestClassifier()\n",
    "\n",
    "models = [knb, ldc, gnb, mlp, svm, rndf]\n",
    "model_names = ['KNeighborsClassifier', 'LinearDiscriminantAnalysis', 'GaussianNB',\n",
    "               'MLPClassifier', 'SVC', 'RandomForestClassifier']\n",
    "scores = []\n",
    "for model in models:\n",
    "    score = cross_val_score(model, Xdata, ydata, cv=10)\n",
    "    scores.append((np.mean(score), np.std(score)))\n",
    "x = pd.DataFrame(np.array(scores), columns=['Mean','Standard Deviation'], index=model_names)\n",
    "x\n",
    "# Nos quedamos con RandomForest"
   ]
  },
  {
   "cell_type": "markdown",
   "metadata": {},
   "source": [
    "### Búsqueda de hiperparámetros\n",
    "- n_estimators: Número de árboles\n",
    "- max_depth: Profundidad máxima del árbol\n",
    "- min_samples_leaf: Número mínimo de muestras requeridas en una hoja"
   ]
  },
  {
   "cell_type": "code",
   "execution_count": 16,
   "metadata": {},
   "outputs": [
    {
     "name": "stdout",
     "output_type": "stream",
     "text": [
      "{'max_depth': 21, 'min_samples_leaf': 1, 'n_estimators': 71}\n",
      "validation accuracy: 0.9987468671679198\n",
      "test accuracy: 0.94\n"
     ]
    }
   ],
   "source": [
    "# División entre training y test\n",
    "X_train, X_test, y_train, y_test = train_test_split(Xdata, ydata,\n",
    "                                                    test_size=0.2,\n",
    "                                                    stratify=ydata, random_state=1234)\n",
    "# Hiperparámetros a probar\n",
    "param_grid = {'n_estimators': range(1, 101, 10),\n",
    "               'max_depth': range(1, 26, 5),\n",
    "               'min_samples_leaf': range(1, 11, 5)}\n",
    "\n",
    "alg = RandomForestClassifier(random_state=1234)\n",
    "# Grid Search con cross validation\n",
    "cv = ShuffleSplit(n_splits=10, test_size=0.2, random_state=1234)\n",
    "grid = GridSearchCV(alg, param_grid=param_grid, cv=cv, return_train_score=True)\n",
    "grid.fit(X_train, y_train)\n",
    "print(grid.best_params_)\n",
    "print('validation accuracy:', grid.score(X_train, y_train))\n",
    "print('test accuracy:', grid.score(X_test, y_test))"
   ]
  },
  {
   "cell_type": "markdown",
   "metadata": {},
   "source": [
    "**Mejores parámetros**  \n",
    "La función GridSearchCV devuelve unos parámetros que tienen una gran diferencia entre el train score y el test score, por lo tanto establecemos un nuevo criterio para la selección de los mismos."
   ]
  },
  {
   "cell_type": "code",
   "execution_count": 17,
   "metadata": {},
   "outputs": [
    {
     "data": {
      "text/html": [
       "<div>\n",
       "<style scoped>\n",
       "    .dataframe tbody tr th:only-of-type {\n",
       "        vertical-align: middle;\n",
       "    }\n",
       "\n",
       "    .dataframe tbody tr th {\n",
       "        vertical-align: top;\n",
       "    }\n",
       "\n",
       "    .dataframe thead th {\n",
       "        text-align: right;\n",
       "    }\n",
       "</style>\n",
       "<table border=\"1\" class=\"dataframe\">\n",
       "  <thead>\n",
       "    <tr style=\"text-align: right;\">\n",
       "      <th></th>\n",
       "      <th>mean_train_score</th>\n",
       "      <th>mean_test_score</th>\n",
       "      <th>train_test_difference</th>\n",
       "    </tr>\n",
       "  </thead>\n",
       "  <tbody>\n",
       "    <tr>\n",
       "      <th>36</th>\n",
       "      <td>0.919201</td>\n",
       "      <td>0.906250</td>\n",
       "      <td>0.012951</td>\n",
       "    </tr>\n",
       "    <tr>\n",
       "      <th>37</th>\n",
       "      <td>0.918966</td>\n",
       "      <td>0.904375</td>\n",
       "      <td>0.014591</td>\n",
       "    </tr>\n",
       "    <tr>\n",
       "      <th>38</th>\n",
       "      <td>0.920533</td>\n",
       "      <td>0.902188</td>\n",
       "      <td>0.018345</td>\n",
       "    </tr>\n",
       "    <tr>\n",
       "      <th>39</th>\n",
       "      <td>0.921003</td>\n",
       "      <td>0.901563</td>\n",
       "      <td>0.019441</td>\n",
       "    </tr>\n",
       "    <tr>\n",
       "      <th>35</th>\n",
       "      <td>0.919828</td>\n",
       "      <td>0.900937</td>\n",
       "      <td>0.018890</td>\n",
       "    </tr>\n",
       "    <tr>\n",
       "      <th>34</th>\n",
       "      <td>0.919201</td>\n",
       "      <td>0.900000</td>\n",
       "      <td>0.019201</td>\n",
       "    </tr>\n",
       "  </tbody>\n",
       "</table>\n",
       "</div>"
      ],
      "text/plain": [
       "    mean_train_score  mean_test_score  train_test_difference\n",
       "36          0.919201         0.906250               0.012951\n",
       "37          0.918966         0.904375               0.014591\n",
       "38          0.920533         0.902188               0.018345\n",
       "39          0.921003         0.901563               0.019441\n",
       "35          0.919828         0.900937               0.018890\n",
       "34          0.919201         0.900000               0.019201"
      ]
     },
     "execution_count": 17,
     "metadata": {},
     "output_type": "execute_result"
    }
   ],
   "source": [
    "# Queremos que haya poca diferencia entre validación y test\n",
    "c = pd.DataFrame(grid.cv_results_)\n",
    "c['train_test_difference'] = c.mean_train_score - c.mean_test_score\n",
    "# Diferencia máxima entre validación y test\n",
    "max_diff = 0.02\n",
    "# Precisión mínima en test\n",
    "min_test_score = 0.90\n",
    "c_sorted = c[(c.mean_test_score >= min_test_score) & (c.train_test_difference <= max_diff)][(\n",
    "    ['mean_train_score', 'mean_test_score','train_test_difference'])].sort_values('mean_test_score', ascending=False)\n",
    "# Ordenamos por error en test\n",
    "c_sorted.head(n=10)"
   ]
  },
  {
   "cell_type": "code",
   "execution_count": 18,
   "metadata": {},
   "outputs": [
    {
     "name": "stdout",
     "output_type": "stream",
     "text": [
      "Max depth: 6 - Min. samples leaf: 6 - Num. estimators: 61\n"
     ]
    }
   ],
   "source": [
    "# Obtenemos los mejores hiperparámetros según nuestro criterio\n",
    "i = c_sorted.first_valid_index()\n",
    "max_depth = c.param_max_depth.iloc[i]\n",
    "min_samples_leaf = c.param_min_samples_leaf.iloc[i]\n",
    "n_estimators = c.param_n_estimators.iloc[i]\n",
    "print('Max depth: {} - Min. samples leaf: {} - Num. estimators: {}'.format(max_depth, min_samples_leaf, n_estimators))"
   ]
  },
  {
   "cell_type": "markdown",
   "metadata": {},
   "source": [
    "## Resultados - Undersampled"
   ]
  },
  {
   "cell_type": "code",
   "execution_count": 19,
   "metadata": {},
   "outputs": [],
   "source": [
    "# Obtenemos el modelo con los hiperparámetros elegidos\n",
    "alg_u = RandomForestClassifier(random_state=1234, max_depth=max_depth,\n",
    "                              min_samples_leaf=min_samples_leaf, n_estimators=n_estimators)"
   ]
  },
  {
   "cell_type": "code",
   "execution_count": 20,
   "metadata": {},
   "outputs": [
    {
     "data": {
      "image/png": "[encoded data removed]",
      "text/plain": [
       "<Figure size 432x288 with 1 Axes>"
      ]
     },
     "metadata": {
      "needs_background": "light"
     },
     "output_type": "display_data"
    }
   ],
   "source": [
    "# Calculamos la curva de aprendizaje\n",
    "cv = ShuffleSplit(n_splits=100, test_size=0.2)\n",
    "train_sizes = np.linspace(0.05, 1, num=20)\n",
    "train_sizes, train_scores, test_scores = learning_curve(\n",
    "        alg_u, Xdata, ydata, cv=cv, train_sizes=train_sizes)\n",
    "\n",
    "train_scores_mean = np.mean(train_scores, axis=1)\n",
    "train_scores_std = np.std(train_scores, axis=1)\n",
    "test_scores_mean = np.mean(test_scores, axis=1)\n",
    "test_scores_std = np.std(test_scores, axis=1)\n",
    "\n",
    "# plot\n",
    "plt.figure()\n",
    "plt.title('Learning curve RFC')\n",
    "plt.xlabel('Training size')\n",
    "plt.ylabel('Score')\n",
    "plt.grid()\n",
    "plt.fill_between(train_sizes, train_scores_mean - train_scores_std,\n",
    "                 train_scores_mean + train_scores_std, alpha=0.1, color='r')\n",
    "plt.fill_between(train_sizes, test_scores_mean - test_scores_std,\n",
    "                 test_scores_mean + test_scores_std, alpha=0.1, color='b')\n",
    "plt.plot(train_sizes, train_scores_mean, 'ro-', label='Training score')\n",
    "plt.plot(train_sizes, test_scores_mean, 'bo-', label='Test score')\n",
    "plt.legend(loc='best')\n",
    "plt.show()\n",
    "plt.close()"
   ]
  },
  {
   "cell_type": "code",
   "execution_count": 21,
   "metadata": {},
   "outputs": [
    {
     "name": "stdout",
     "output_type": "stream",
     "text": [
      "training accuracy: 0.9255547602004295\n",
      "test accuracy: 0.9031719532554258\n"
     ]
    }
   ],
   "source": [
    "# Cambiamos la división entre training y test\n",
    "X_train, X_test, y_train, y_test = train_test_split(Xdata, ydata,\n",
    "                                                    test_size=0.3,\n",
    "                                                    stratify=ydata, random_state=1234)\n",
    "alg_u.fit(X_train, y_train)\n",
    "print('training accuracy:', alg_u.score(X_train, y_train))\n",
    "print('test accuracy:', alg_u.score(X_test, y_test))"
   ]
  },
  {
   "cell_type": "markdown",
   "metadata": {},
   "source": [
    "**Mejores parámetros en función de la precisión en test**"
   ]
  },
  {
   "cell_type": "code",
   "execution_count": 22,
   "metadata": {},
   "outputs": [],
   "source": [
    "# Modelo con mejores resultados\n",
    "max_depth = grid.best_params_['max_depth']\n",
    "min_samples_leaf = grid.best_params_['min_samples_leaf']\n",
    "n_estimators = grid.best_params_['n_estimators']\n",
    "best = RandomForestClassifier(random_state=1234, max_depth=max_depth,\n",
    "                              min_samples_leaf=min_samples_leaf, n_estimators=n_estimators)"
   ]
  },
  {
   "cell_type": "code",
   "execution_count": 23,
   "metadata": {},
   "outputs": [
    {
     "data": {
      "image/png": "[encoded data removed]",
      "text/plain": [
       "<Figure size 432x288 with 1 Axes>"
      ]
     },
     "metadata": {
      "needs_background": "light"
     },
     "output_type": "display_data"
    }
   ],
   "source": [
    "# Calculamos la curva de aprendizaje\n",
    "cv = ShuffleSplit(n_splits=100, test_size=0.2)\n",
    "train_sizes = np.linspace(0.05, 1, num=20)\n",
    "train_sizes, train_scores, test_scores = learning_curve(\n",
    "        best, Xdata, ydata, cv=cv, train_sizes=train_sizes)\n",
    "\n",
    "train_scores_mean = np.mean(train_scores, axis=1)\n",
    "train_scores_std = np.std(train_scores, axis=1)\n",
    "test_scores_mean = np.mean(test_scores, axis=1)\n",
    "test_scores_std = np.std(test_scores, axis=1)\n",
    "\n",
    "# plot\n",
    "plt.figure()\n",
    "plt.title('Learning curve RFC')\n",
    "plt.xlabel('Training size')\n",
    "plt.ylabel('Score')\n",
    "plt.grid()\n",
    "plt.fill_between(train_sizes, train_scores_mean - train_scores_std,\n",
    "                 train_scores_mean + train_scores_std, alpha=0.1, color='r')\n",
    "plt.fill_between(train_sizes, test_scores_mean - test_scores_std,\n",
    "                 test_scores_mean + test_scores_std, alpha=0.1, color='b')\n",
    "plt.plot(train_sizes, train_scores_mean, 'ro-', label='Training score')\n",
    "plt.plot(train_sizes, test_scores_mean, 'bo-', label='Test score')\n",
    "plt.legend(loc='best')\n",
    "plt.show()\n",
    "plt.close()"
   ]
  },
  {
   "cell_type": "markdown",
   "metadata": {},
   "source": [
    "## Entrenamiento de modelos - Oversampled"
   ]
  },
  {
   "cell_type": "code",
   "execution_count": 24,
   "metadata": {},
   "outputs": [],
   "source": [
    "# Probamos con oversampling:\n",
    "Xdata = Xdata_o\n",
    "ydata = ydata_o"
   ]
  },
  {
   "cell_type": "markdown",
   "metadata": {},
   "source": [
    "### Selección del modelo  \n",
    "Se prueba con una batería de diferentes modelos de clasificación, con los parámetros por defecto."
   ]
  },
  {
   "cell_type": "code",
   "execution_count": 25,
   "metadata": {},
   "outputs": [
    {
     "data": {
      "text/html": [
       "<div>\n",
       "<style scoped>\n",
       "    .dataframe tbody tr th:only-of-type {\n",
       "        vertical-align: middle;\n",
       "    }\n",
       "\n",
       "    .dataframe tbody tr th {\n",
       "        vertical-align: top;\n",
       "    }\n",
       "\n",
       "    .dataframe thead th {\n",
       "        text-align: right;\n",
       "    }\n",
       "</style>\n",
       "<table border=\"1\" class=\"dataframe\">\n",
       "  <thead>\n",
       "    <tr style=\"text-align: right;\">\n",
       "      <th></th>\n",
       "      <th>Mean</th>\n",
       "      <th>Standard Deviation</th>\n",
       "    </tr>\n",
       "  </thead>\n",
       "  <tbody>\n",
       "    <tr>\n",
       "      <th>KNeighborsClassifier</th>\n",
       "      <td>0.952511</td>\n",
       "      <td>0.009092</td>\n",
       "    </tr>\n",
       "    <tr>\n",
       "      <th>LinearDiscriminantAnalysis</th>\n",
       "      <td>0.874658</td>\n",
       "      <td>0.008736</td>\n",
       "    </tr>\n",
       "    <tr>\n",
       "      <th>GaussianNB</th>\n",
       "      <td>0.789041</td>\n",
       "      <td>0.009271</td>\n",
       "    </tr>\n",
       "    <tr>\n",
       "      <th>MLPClassifier</th>\n",
       "      <td>0.960046</td>\n",
       "      <td>0.011427</td>\n",
       "    </tr>\n",
       "    <tr>\n",
       "      <th>SVC</th>\n",
       "      <td>0.861986</td>\n",
       "      <td>0.006527</td>\n",
       "    </tr>\n",
       "    <tr>\n",
       "      <th>RandomForestClassifier</th>\n",
       "      <td>0.972374</td>\n",
       "      <td>0.014635</td>\n",
       "    </tr>\n",
       "  </tbody>\n",
       "</table>\n",
       "</div>"
      ],
      "text/plain": [
       "                                Mean  Standard Deviation\n",
       "KNeighborsClassifier        0.952511            0.009092\n",
       "LinearDiscriminantAnalysis  0.874658            0.008736\n",
       "GaussianNB                  0.789041            0.009271\n",
       "MLPClassifier               0.960046            0.011427\n",
       "SVC                         0.861986            0.006527\n",
       "RandomForestClassifier      0.972374            0.014635"
      ]
     },
     "execution_count": 25,
     "metadata": {},
     "output_type": "execute_result"
    }
   ],
   "source": [
    "# K Neighbors\n",
    "knb = KNeighborsClassifier()\n",
    "\n",
    "# LDC:\n",
    "ldc = LinearDiscriminantAnalysis()\n",
    "\n",
    "# Bayesian:\n",
    "gnb = GaussianNB()\n",
    "\n",
    "# Multilayer Perceptron\n",
    "mlp = MLPClassifier()\n",
    "\n",
    "# SVM:\n",
    "svm = SVC()\n",
    "\n",
    "# Random Forest\n",
    "rndf = RandomForestClassifier()\n",
    "\n",
    "models = [knb, ldc, gnb, mlp, svm, rndf]\n",
    "model_names = ['KNeighborsClassifier', 'LinearDiscriminantAnalysis', 'GaussianNB',\n",
    "               'MLPClassifier', 'SVC', 'RandomForestClassifier']\n",
    "scores = []\n",
    "for model in models:\n",
    "    score = cross_val_score(model, Xdata, ydata, cv=10)\n",
    "    scores.append((np.mean(score), np.std(score)))\n",
    "x = pd.DataFrame(np.array(scores), columns=['Mean','Standard Deviation'], index=model_names)\n",
    "x\n",
    "# Nos quedamos con RandomForest"
   ]
  },
  {
   "cell_type": "markdown",
   "metadata": {},
   "source": [
    "### Búsqueda de hiperparámetros\n",
    "- n_estimators: Número de árboles\n",
    "- max_depth: Profundidad máxima del árbol\n",
    "- min_samples_leaf: Número mínimo de muestras requeridas en una hoja"
   ]
  },
  {
   "cell_type": "code",
   "execution_count": 26,
   "metadata": {},
   "outputs": [
    {
     "name": "stdout",
     "output_type": "stream",
     "text": [
      "{'max_depth': 16, 'min_samples_leaf': 1, 'n_estimators': 31}\n",
      "validation accuracy: 0.9972888127853882\n",
      "test accuracy: 0.9788812785388128\n"
     ]
    }
   ],
   "source": [
    "# División entre training y test\n",
    "X_train, X_test, y_train, y_test = train_test_split(Xdata, ydata,\n",
    "                                                    test_size=0.2,\n",
    "                                                    stratify=ydata, random_state=1234)\n",
    "# Hiperparámetros a probar\n",
    "param_grid = {'n_estimators': range(1, 101, 10),\n",
    "               'max_depth': range(1, 26, 5),\n",
    "               'min_samples_leaf': range(1, 11, 5)}\n",
    "\n",
    "alg = RandomForestClassifier(random_state=1234)\n",
    "# Grid Search con cross validation\n",
    "cv = ShuffleSplit(n_splits=10, test_size=0.2, random_state=1234)\n",
    "grid = GridSearchCV(alg, param_grid=param_grid, cv=cv, return_train_score=True)\n",
    "grid.fit(X_train, y_train)\n",
    "print(grid.best_params_)\n",
    "print('validation accuracy:', grid.score(X_train, y_train))\n",
    "print('test accuracy:', grid.score(X_test, y_test))"
   ]
  },
  {
   "cell_type": "markdown",
   "metadata": {},
   "source": [
    "**Mejores parámetros**  \n",
    "La función GridSearchCV devuelve unos parámetros que tienen una gran diferencia entre el train score y el test score, por lo tanto establecemos un nuevo criterio para la selección de los mismos."
   ]
  },
  {
   "cell_type": "code",
   "execution_count": 27,
   "metadata": {},
   "outputs": [
    {
     "data": {
      "text/html": [
       "<div>\n",
       "<style scoped>\n",
       "    .dataframe tbody tr th:only-of-type {\n",
       "        vertical-align: middle;\n",
       "    }\n",
       "\n",
       "    .dataframe tbody tr th {\n",
       "        vertical-align: top;\n",
       "    }\n",
       "\n",
       "    .dataframe thead th {\n",
       "        text-align: right;\n",
       "    }\n",
       "</style>\n",
       "<table border=\"1\" class=\"dataframe\">\n",
       "  <thead>\n",
       "    <tr style=\"text-align: right;\">\n",
       "      <th></th>\n",
       "      <th>mean_train_score</th>\n",
       "      <th>mean_test_score</th>\n",
       "      <th>train_test_difference</th>\n",
       "    </tr>\n",
       "  </thead>\n",
       "  <tbody>\n",
       "    <tr>\n",
       "      <th>48</th>\n",
       "      <td>0.990100</td>\n",
       "      <td>0.971683</td>\n",
       "      <td>0.018417</td>\n",
       "    </tr>\n",
       "    <tr>\n",
       "      <th>47</th>\n",
       "      <td>0.989957</td>\n",
       "      <td>0.971612</td>\n",
       "      <td>0.018345</td>\n",
       "    </tr>\n",
       "    <tr>\n",
       "      <th>49</th>\n",
       "      <td>0.990153</td>\n",
       "      <td>0.971541</td>\n",
       "      <td>0.018613</td>\n",
       "    </tr>\n",
       "    <tr>\n",
       "      <th>45</th>\n",
       "      <td>0.990189</td>\n",
       "      <td>0.971469</td>\n",
       "      <td>0.018720</td>\n",
       "    </tr>\n",
       "    <tr>\n",
       "      <th>46</th>\n",
       "      <td>0.989993</td>\n",
       "      <td>0.971327</td>\n",
       "      <td>0.018666</td>\n",
       "    </tr>\n",
       "    <tr>\n",
       "      <th>43</th>\n",
       "      <td>0.989351</td>\n",
       "      <td>0.970827</td>\n",
       "      <td>0.018523</td>\n",
       "    </tr>\n",
       "    <tr>\n",
       "      <th>44</th>\n",
       "      <td>0.989672</td>\n",
       "      <td>0.970471</td>\n",
       "      <td>0.019201</td>\n",
       "    </tr>\n",
       "    <tr>\n",
       "      <th>42</th>\n",
       "      <td>0.988637</td>\n",
       "      <td>0.969330</td>\n",
       "      <td>0.019308</td>\n",
       "    </tr>\n",
       "    <tr>\n",
       "      <th>41</th>\n",
       "      <td>0.986158</td>\n",
       "      <td>0.967903</td>\n",
       "      <td>0.018255</td>\n",
       "    </tr>\n",
       "    <tr>\n",
       "      <th>98</th>\n",
       "      <td>0.976525</td>\n",
       "      <td>0.965050</td>\n",
       "      <td>0.011475</td>\n",
       "    </tr>\n",
       "  </tbody>\n",
       "</table>\n",
       "</div>"
      ],
      "text/plain": [
       "    mean_train_score  mean_test_score  train_test_difference\n",
       "48          0.990100         0.971683               0.018417\n",
       "47          0.989957         0.971612               0.018345\n",
       "49          0.990153         0.971541               0.018613\n",
       "45          0.990189         0.971469               0.018720\n",
       "46          0.989993         0.971327               0.018666\n",
       "43          0.989351         0.970827               0.018523\n",
       "44          0.989672         0.970471               0.019201\n",
       "42          0.988637         0.969330               0.019308\n",
       "41          0.986158         0.967903               0.018255\n",
       "98          0.976525         0.965050               0.011475"
      ]
     },
     "execution_count": 27,
     "metadata": {},
     "output_type": "execute_result"
    }
   ],
   "source": [
    "# Queremos que haya poca diferencia entre validación y test\n",
    "c = pd.DataFrame(grid.cv_results_)\n",
    "c['train_test_difference'] = c.mean_train_score - c.mean_test_score\n",
    "# Diferencia máxima entre validación y test\n",
    "max_diff = 0.02\n",
    "# Precisión mínima en test\n",
    "min_test_score = 0.90\n",
    "c_sorted = c[(c.mean_test_score >= min_test_score) & (c.train_test_difference <= max_diff)][(\n",
    "    ['mean_train_score', 'mean_test_score','train_test_difference'])].sort_values('mean_test_score', ascending=False)\n",
    "# Ordenamos por error en test\n",
    "c_sorted.head(n=10)"
   ]
  },
  {
   "cell_type": "code",
   "execution_count": 28,
   "metadata": {},
   "outputs": [
    {
     "name": "stdout",
     "output_type": "stream",
     "text": [
      "Max depth: 11 - Min. samples leaf: 1 - Num. estimators: 81\n"
     ]
    }
   ],
   "source": [
    "# Obtenemos los mejores hiperparámetros según nuestro criterio\n",
    "i = c_sorted.first_valid_index()\n",
    "max_depth = c.param_max_depth.iloc[i]\n",
    "min_samples_leaf = c.param_min_samples_leaf.iloc[i]\n",
    "n_estimators = c.param_n_estimators.iloc[i]\n",
    "print('Max depth: {} - Min. samples leaf: {} - Num. estimators: {}'.format(max_depth, min_samples_leaf, n_estimators))"
   ]
  },
  {
   "cell_type": "markdown",
   "metadata": {},
   "source": [
    "## Resultados - Oversampled"
   ]
  },
  {
   "cell_type": "code",
   "execution_count": 29,
   "metadata": {},
   "outputs": [],
   "source": [
    "# Obtenemos el modelo con los hiperparámetros elegidos\n",
    "alg_o = RandomForestClassifier(random_state=1234, max_depth=max_depth,\n",
    "                              min_samples_leaf=min_samples_leaf, n_estimators=n_estimators)"
   ]
  },
  {
   "cell_type": "code",
   "execution_count": 30,
   "metadata": {},
   "outputs": [
    {
     "data": {
      "image/png": "[encoded data removed]",
      "text/plain": [
       "<Figure size 432x288 with 1 Axes>"
      ]
     },
     "metadata": {
      "needs_background": "light"
     },
     "output_type": "display_data"
    }
   ],
   "source": [
    "# Calculamos la curva de aprendizaje\n",
    "cv = ShuffleSplit(n_splits=100, test_size=0.2)\n",
    "train_sizes = np.linspace(0.05, 1, num=20)\n",
    "train_sizes, train_scores, test_scores = learning_curve(\n",
    "        alg_o, Xdata, ydata, cv=cv, train_sizes=train_sizes)\n",
    "\n",
    "train_scores_mean = np.mean(train_scores, axis=1)\n",
    "train_scores_std = np.std(train_scores, axis=1)\n",
    "test_scores_mean = np.mean(test_scores, axis=1)\n",
    "test_scores_std = np.std(test_scores, axis=1)\n",
    "\n",
    "# plot\n",
    "plt.figure()\n",
    "plt.title('Learning curve RFC')\n",
    "plt.xlabel('Training size')\n",
    "plt.ylabel('Score')\n",
    "plt.grid()\n",
    "plt.fill_between(train_sizes, train_scores_mean - train_scores_std,\n",
    "                 train_scores_mean + train_scores_std, alpha=0.1, color='r')\n",
    "plt.fill_between(train_sizes, test_scores_mean - test_scores_std,\n",
    "                 test_scores_mean + test_scores_std, alpha=0.1, color='b')\n",
    "plt.plot(train_sizes, train_scores_mean, 'ro-', label='Training score')\n",
    "plt.plot(train_sizes, test_scores_mean, 'bo-', label='Test score')\n",
    "plt.legend(loc='best')\n",
    "plt.show()\n",
    "plt.close()"
   ]
  },
  {
   "cell_type": "markdown",
   "metadata": {},
   "source": [
    "**Mejores parámetros en función de la precisión en test**"
   ]
  },
  {
   "cell_type": "code",
   "execution_count": 31,
   "metadata": {},
   "outputs": [],
   "source": [
    "# Modelo con mejores resultados\n",
    "max_depth = grid.best_params_['max_depth']\n",
    "min_samples_leaf = grid.best_params_['min_samples_leaf']\n",
    "n_estimators = grid.best_params_['n_estimators']\n",
    "best = RandomForestClassifier(random_state=1234, max_depth=max_depth,\n",
    "                              min_samples_leaf=min_samples_leaf, n_estimators=n_estimators)"
   ]
  },
  {
   "cell_type": "code",
   "execution_count": 32,
   "metadata": {},
   "outputs": [
    {
     "data": {
      "image/png": "[encoded data removed]",
      "text/plain": [
       "<Figure size 432x288 with 1 Axes>"
      ]
     },
     "metadata": {
      "needs_background": "light"
     },
     "output_type": "display_data"
    }
   ],
   "source": [
    "# Calculamos la curva de aprendizaje\n",
    "cv = ShuffleSplit(n_splits=100, test_size=0.2)\n",
    "train_sizes = np.linspace(0.05, 1, num=20)\n",
    "train_sizes, train_scores, test_scores = learning_curve(\n",
    "        best, Xdata, ydata, cv=cv, train_sizes=train_sizes)\n",
    "\n",
    "train_scores_mean = np.mean(train_scores, axis=1)\n",
    "train_scores_std = np.std(train_scores, axis=1)\n",
    "test_scores_mean = np.mean(test_scores, axis=1)\n",
    "test_scores_std = np.std(test_scores, axis=1)\n",
    "\n",
    "# plot\n",
    "plt.figure()\n",
    "plt.title('Learning curve RFC')\n",
    "plt.xlabel('Training size')\n",
    "plt.ylabel('Score')\n",
    "plt.grid()\n",
    "plt.fill_between(train_sizes, train_scores_mean - train_scores_std,\n",
    "                 train_scores_mean + train_scores_std, alpha=0.1, color='r')\n",
    "plt.fill_between(train_sizes, test_scores_mean - test_scores_std,\n",
    "                 test_scores_mean + test_scores_std, alpha=0.1, color='b')\n",
    "plt.plot(train_sizes, train_scores_mean, 'ro-', label='Training score')\n",
    "plt.plot(train_sizes, test_scores_mean, 'bo-', label='Test score')\n",
    "plt.legend(loc='best')\n",
    "plt.show()\n",
    "plt.close()"
   ]
  },
  {
   "cell_type": "code",
   "execution_count": 33,
   "metadata": {},
   "outputs": [],
   "source": [
    "# Reactivamos warnings\n",
    "warnings.filterwarnings(\"default\")"
   ]
  },
  {
   "cell_type": "markdown",
   "metadata": {},
   "source": [
    "## Persistencia"
   ]
  },
  {
   "cell_type": "code",
   "execution_count": 34,
   "metadata": {},
   "outputs": [],
   "source": [
    "with open('RForest_Zika_oversampled.bin','wb') as file:\n",
    "    pickle.dump(alg_o, file)\n",
    "with open('RForest_Zika_undersampled.bin','wb') as file:\n",
    "    pickle.dump(alg_u, file)"
   ]
  },
  {
   "cell_type": "markdown",
   "metadata": {},
   "source": [
    "## FIN"
   ]
  }
 ],
 "metadata": {
  "kernelspec": {
   "display_name": "Python 3",
   "language": "python",
   "name": "python3"
  },
  "language_info": {
   "codemirror_mode": {
    "name": "ipython",
    "version": 3
   },
   "file_extension": ".py",
   "mimetype": "text/x-python",
   "name": "python",
   "nbconvert_exporter": "python",
   "pygments_lexer": "ipython3",
   "version": "3.7.1"
  }
 },
 "nbformat": 4,
 "nbformat_minor": 2
}
